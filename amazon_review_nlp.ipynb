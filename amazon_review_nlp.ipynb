{
  "nbformat": 4,
  "nbformat_minor": 0,
  "metadata": {
    "colab": {
      "provenance": [],
      "toc_visible": true,
      "authorship_tag": "ABX9TyO4c68h1Tj5ikVF8VCgrnkd",
      "include_colab_link": true
    },
    "kernelspec": {
      "name": "python3",
      "display_name": "Python 3"
    },
    "language_info": {
      "name": "python"
    }
  },
  "cells": [
    {
      "cell_type": "markdown",
      "metadata": {
        "id": "view-in-github",
        "colab_type": "text"
      },
      "source": [
        "<a href=\"https://colab.research.google.com/github/Tahereh2/Machine-Learning/blob/main/amazon_review_nlp.ipynb\" target=\"_parent\"><img src=\"https://colab.research.google.com/assets/colab-badge.svg\" alt=\"Open In Colab\"/></a>"
      ]
    },
    {
      "cell_type": "markdown",
      "source": [
        "# Amazon Review (NLP)"
      ],
      "metadata": {
        "id": "7xgw0FSdGOgD"
      }
    },
    {
      "cell_type": "code",
      "source": [
        "import pandas as pd\n",
        "import numpy as np\n",
        "import matplotlib.pyplot as plt\n",
        "import seaborn as sns"
      ],
      "metadata": {
        "id": "u7oT72eHGS_A"
      },
      "execution_count": null,
      "outputs": []
    },
    {
      "cell_type": "code",
      "source": [
        "data=pd.read_csv(\"/content/7817_1.csv\")\n",
        "data.head()"
      ],
      "metadata": {
        "colab": {
          "base_uri": "https://localhost:8080/",
          "height": 577
        },
        "id": "-mj1sodrJLMx",
        "outputId": "a481c529-9e90-4b44-81de-0172cf11dc4b"
      },
      "execution_count": null,
      "outputs": [
        {
          "output_type": "execute_result",
          "data": {
            "text/plain": [
              "                     id       asins   brand                  categories  \\\n",
              "0  AVpe7AsMilAPnD_xQ78G  B00QJDU3KY  Amazon  Amazon Devices,mazon.co.uk   \n",
              "1  AVpe7AsMilAPnD_xQ78G  B00QJDU3KY  Amazon  Amazon Devices,mazon.co.uk   \n",
              "2  AVpe7AsMilAPnD_xQ78G  B00QJDU3KY  Amazon  Amazon Devices,mazon.co.uk   \n",
              "3  AVpe7AsMilAPnD_xQ78G  B00QJDU3KY  Amazon  Amazon Devices,mazon.co.uk   \n",
              "4  AVpe7AsMilAPnD_xQ78G  B00QJDU3KY  Amazon  Amazon Devices,mazon.co.uk   \n",
              "\n",
              "  colors             dateAdded           dateUpdated  \\\n",
              "0    NaN  2016-03-08T20:21:53Z  2017-07-18T23:52:58Z   \n",
              "1    NaN  2016-03-08T20:21:53Z  2017-07-18T23:52:58Z   \n",
              "2    NaN  2016-03-08T20:21:53Z  2017-07-18T23:52:58Z   \n",
              "3    NaN  2016-03-08T20:21:53Z  2017-07-18T23:52:58Z   \n",
              "4    NaN  2016-03-08T20:21:53Z  2017-07-18T23:52:58Z   \n",
              "\n",
              "                  dimension  ean                         keys  ...  \\\n",
              "0  169 mm x 117 mm x 9.1 mm  NaN  kindlepaperwhite/b00qjdu3ky  ...   \n",
              "1  169 mm x 117 mm x 9.1 mm  NaN  kindlepaperwhite/b00qjdu3ky  ...   \n",
              "2  169 mm x 117 mm x 9.1 mm  NaN  kindlepaperwhite/b00qjdu3ky  ...   \n",
              "3  169 mm x 117 mm x 9.1 mm  NaN  kindlepaperwhite/b00qjdu3ky  ...   \n",
              "4  169 mm x 117 mm x 9.1 mm  NaN  kindlepaperwhite/b00qjdu3ky  ...   \n",
              "\n",
              "  reviews.rating                                 reviews.sourceURLs  \\\n",
              "0            5.0  https://www.amazon.com/Kindle-Paperwhite-High-...   \n",
              "1            5.0  https://www.amazon.com/Kindle-Paperwhite-High-...   \n",
              "2            4.0  https://www.amazon.com/Kindle-Paperwhite-High-...   \n",
              "3            5.0  https://www.amazon.com/Kindle-Paperwhite-High-...   \n",
              "4            5.0  https://www.amazon.com/Kindle-Paperwhite-High-...   \n",
              "\n",
              "                                        reviews.text  \\\n",
              "0  I initially had trouble deciding between the p...   \n",
              "1  Allow me to preface this with a little history...   \n",
              "2  I am enjoying it so far. Great for reading. Ha...   \n",
              "3  I bought one of the first Paperwhites and have...   \n",
              "4  I have to say upfront - I don't like coroporat...   \n",
              "\n",
              "                                reviews.title reviews.userCity  \\\n",
              "0              Paperwhite voyage, no regrets!              NaN   \n",
              "1           One Simply Could Not Ask For More              NaN   \n",
              "2  Great for those that just want an e-reader              NaN   \n",
              "3                    Love / Hate relationship              NaN   \n",
              "4                                   I LOVE IT              NaN   \n",
              "\n",
              "  reviews.userProvince    reviews.username  sizes upc     weight  \n",
              "0                  NaN          Cristina M    NaN NaN  205 grams  \n",
              "1                  NaN               Ricky    NaN NaN  205 grams  \n",
              "2                  NaN       Tedd Gardiner    NaN NaN  205 grams  \n",
              "3                  NaN              Dougal    NaN NaN  205 grams  \n",
              "4                  NaN  Miljan David Tanic    NaN NaN  205 grams  \n",
              "\n",
              "[5 rows x 27 columns]"
            ],
            "text/html": [
              "\n",
              "  <div id=\"df-1058d3dc-e020-4995-a1ba-719170434c8b\">\n",
              "    <div class=\"colab-df-container\">\n",
              "      <div>\n",
              "<style scoped>\n",
              "    .dataframe tbody tr th:only-of-type {\n",
              "        vertical-align: middle;\n",
              "    }\n",
              "\n",
              "    .dataframe tbody tr th {\n",
              "        vertical-align: top;\n",
              "    }\n",
              "\n",
              "    .dataframe thead th {\n",
              "        text-align: right;\n",
              "    }\n",
              "</style>\n",
              "<table border=\"1\" class=\"dataframe\">\n",
              "  <thead>\n",
              "    <tr style=\"text-align: right;\">\n",
              "      <th></th>\n",
              "      <th>id</th>\n",
              "      <th>asins</th>\n",
              "      <th>brand</th>\n",
              "      <th>categories</th>\n",
              "      <th>colors</th>\n",
              "      <th>dateAdded</th>\n",
              "      <th>dateUpdated</th>\n",
              "      <th>dimension</th>\n",
              "      <th>ean</th>\n",
              "      <th>keys</th>\n",
              "      <th>...</th>\n",
              "      <th>reviews.rating</th>\n",
              "      <th>reviews.sourceURLs</th>\n",
              "      <th>reviews.text</th>\n",
              "      <th>reviews.title</th>\n",
              "      <th>reviews.userCity</th>\n",
              "      <th>reviews.userProvince</th>\n",
              "      <th>reviews.username</th>\n",
              "      <th>sizes</th>\n",
              "      <th>upc</th>\n",
              "      <th>weight</th>\n",
              "    </tr>\n",
              "  </thead>\n",
              "  <tbody>\n",
              "    <tr>\n",
              "      <th>0</th>\n",
              "      <td>AVpe7AsMilAPnD_xQ78G</td>\n",
              "      <td>B00QJDU3KY</td>\n",
              "      <td>Amazon</td>\n",
              "      <td>Amazon Devices,mazon.co.uk</td>\n",
              "      <td>NaN</td>\n",
              "      <td>2016-03-08T20:21:53Z</td>\n",
              "      <td>2017-07-18T23:52:58Z</td>\n",
              "      <td>169 mm x 117 mm x 9.1 mm</td>\n",
              "      <td>NaN</td>\n",
              "      <td>kindlepaperwhite/b00qjdu3ky</td>\n",
              "      <td>...</td>\n",
              "      <td>5.0</td>\n",
              "      <td>https://www.amazon.com/Kindle-Paperwhite-High-...</td>\n",
              "      <td>I initially had trouble deciding between the p...</td>\n",
              "      <td>Paperwhite voyage, no regrets!</td>\n",
              "      <td>NaN</td>\n",
              "      <td>NaN</td>\n",
              "      <td>Cristina M</td>\n",
              "      <td>NaN</td>\n",
              "      <td>NaN</td>\n",
              "      <td>205 grams</td>\n",
              "    </tr>\n",
              "    <tr>\n",
              "      <th>1</th>\n",
              "      <td>AVpe7AsMilAPnD_xQ78G</td>\n",
              "      <td>B00QJDU3KY</td>\n",
              "      <td>Amazon</td>\n",
              "      <td>Amazon Devices,mazon.co.uk</td>\n",
              "      <td>NaN</td>\n",
              "      <td>2016-03-08T20:21:53Z</td>\n",
              "      <td>2017-07-18T23:52:58Z</td>\n",
              "      <td>169 mm x 117 mm x 9.1 mm</td>\n",
              "      <td>NaN</td>\n",
              "      <td>kindlepaperwhite/b00qjdu3ky</td>\n",
              "      <td>...</td>\n",
              "      <td>5.0</td>\n",
              "      <td>https://www.amazon.com/Kindle-Paperwhite-High-...</td>\n",
              "      <td>Allow me to preface this with a little history...</td>\n",
              "      <td>One Simply Could Not Ask For More</td>\n",
              "      <td>NaN</td>\n",
              "      <td>NaN</td>\n",
              "      <td>Ricky</td>\n",
              "      <td>NaN</td>\n",
              "      <td>NaN</td>\n",
              "      <td>205 grams</td>\n",
              "    </tr>\n",
              "    <tr>\n",
              "      <th>2</th>\n",
              "      <td>AVpe7AsMilAPnD_xQ78G</td>\n",
              "      <td>B00QJDU3KY</td>\n",
              "      <td>Amazon</td>\n",
              "      <td>Amazon Devices,mazon.co.uk</td>\n",
              "      <td>NaN</td>\n",
              "      <td>2016-03-08T20:21:53Z</td>\n",
              "      <td>2017-07-18T23:52:58Z</td>\n",
              "      <td>169 mm x 117 mm x 9.1 mm</td>\n",
              "      <td>NaN</td>\n",
              "      <td>kindlepaperwhite/b00qjdu3ky</td>\n",
              "      <td>...</td>\n",
              "      <td>4.0</td>\n",
              "      <td>https://www.amazon.com/Kindle-Paperwhite-High-...</td>\n",
              "      <td>I am enjoying it so far. Great for reading. Ha...</td>\n",
              "      <td>Great for those that just want an e-reader</td>\n",
              "      <td>NaN</td>\n",
              "      <td>NaN</td>\n",
              "      <td>Tedd Gardiner</td>\n",
              "      <td>NaN</td>\n",
              "      <td>NaN</td>\n",
              "      <td>205 grams</td>\n",
              "    </tr>\n",
              "    <tr>\n",
              "      <th>3</th>\n",
              "      <td>AVpe7AsMilAPnD_xQ78G</td>\n",
              "      <td>B00QJDU3KY</td>\n",
              "      <td>Amazon</td>\n",
              "      <td>Amazon Devices,mazon.co.uk</td>\n",
              "      <td>NaN</td>\n",
              "      <td>2016-03-08T20:21:53Z</td>\n",
              "      <td>2017-07-18T23:52:58Z</td>\n",
              "      <td>169 mm x 117 mm x 9.1 mm</td>\n",
              "      <td>NaN</td>\n",
              "      <td>kindlepaperwhite/b00qjdu3ky</td>\n",
              "      <td>...</td>\n",
              "      <td>5.0</td>\n",
              "      <td>https://www.amazon.com/Kindle-Paperwhite-High-...</td>\n",
              "      <td>I bought one of the first Paperwhites and have...</td>\n",
              "      <td>Love / Hate relationship</td>\n",
              "      <td>NaN</td>\n",
              "      <td>NaN</td>\n",
              "      <td>Dougal</td>\n",
              "      <td>NaN</td>\n",
              "      <td>NaN</td>\n",
              "      <td>205 grams</td>\n",
              "    </tr>\n",
              "    <tr>\n",
              "      <th>4</th>\n",
              "      <td>AVpe7AsMilAPnD_xQ78G</td>\n",
              "      <td>B00QJDU3KY</td>\n",
              "      <td>Amazon</td>\n",
              "      <td>Amazon Devices,mazon.co.uk</td>\n",
              "      <td>NaN</td>\n",
              "      <td>2016-03-08T20:21:53Z</td>\n",
              "      <td>2017-07-18T23:52:58Z</td>\n",
              "      <td>169 mm x 117 mm x 9.1 mm</td>\n",
              "      <td>NaN</td>\n",
              "      <td>kindlepaperwhite/b00qjdu3ky</td>\n",
              "      <td>...</td>\n",
              "      <td>5.0</td>\n",
              "      <td>https://www.amazon.com/Kindle-Paperwhite-High-...</td>\n",
              "      <td>I have to say upfront - I don't like coroporat...</td>\n",
              "      <td>I LOVE IT</td>\n",
              "      <td>NaN</td>\n",
              "      <td>NaN</td>\n",
              "      <td>Miljan David Tanic</td>\n",
              "      <td>NaN</td>\n",
              "      <td>NaN</td>\n",
              "      <td>205 grams</td>\n",
              "    </tr>\n",
              "  </tbody>\n",
              "</table>\n",
              "<p>5 rows × 27 columns</p>\n",
              "</div>\n",
              "      <button class=\"colab-df-convert\" onclick=\"convertToInteractive('df-1058d3dc-e020-4995-a1ba-719170434c8b')\"\n",
              "              title=\"Convert this dataframe to an interactive table.\"\n",
              "              style=\"display:none;\">\n",
              "        \n",
              "  <svg xmlns=\"http://www.w3.org/2000/svg\" height=\"24px\"viewBox=\"0 0 24 24\"\n",
              "       width=\"24px\">\n",
              "    <path d=\"M0 0h24v24H0V0z\" fill=\"none\"/>\n",
              "    <path d=\"M18.56 5.44l.94 2.06.94-2.06 2.06-.94-2.06-.94-.94-2.06-.94 2.06-2.06.94zm-11 1L8.5 8.5l.94-2.06 2.06-.94-2.06-.94L8.5 2.5l-.94 2.06-2.06.94zm10 10l.94 2.06.94-2.06 2.06-.94-2.06-.94-.94-2.06-.94 2.06-2.06.94z\"/><path d=\"M17.41 7.96l-1.37-1.37c-.4-.4-.92-.59-1.43-.59-.52 0-1.04.2-1.43.59L10.3 9.45l-7.72 7.72c-.78.78-.78 2.05 0 2.83L4 21.41c.39.39.9.59 1.41.59.51 0 1.02-.2 1.41-.59l7.78-7.78 2.81-2.81c.8-.78.8-2.07 0-2.86zM5.41 20L4 18.59l7.72-7.72 1.47 1.35L5.41 20z\"/>\n",
              "  </svg>\n",
              "      </button>\n",
              "      \n",
              "  <style>\n",
              "    .colab-df-container {\n",
              "      display:flex;\n",
              "      flex-wrap:wrap;\n",
              "      gap: 12px;\n",
              "    }\n",
              "\n",
              "    .colab-df-convert {\n",
              "      background-color: #E8F0FE;\n",
              "      border: none;\n",
              "      border-radius: 50%;\n",
              "      cursor: pointer;\n",
              "      display: none;\n",
              "      fill: #1967D2;\n",
              "      height: 32px;\n",
              "      padding: 0 0 0 0;\n",
              "      width: 32px;\n",
              "    }\n",
              "\n",
              "    .colab-df-convert:hover {\n",
              "      background-color: #E2EBFA;\n",
              "      box-shadow: 0px 1px 2px rgba(60, 64, 67, 0.3), 0px 1px 3px 1px rgba(60, 64, 67, 0.15);\n",
              "      fill: #174EA6;\n",
              "    }\n",
              "\n",
              "    [theme=dark] .colab-df-convert {\n",
              "      background-color: #3B4455;\n",
              "      fill: #D2E3FC;\n",
              "    }\n",
              "\n",
              "    [theme=dark] .colab-df-convert:hover {\n",
              "      background-color: #434B5C;\n",
              "      box-shadow: 0px 1px 3px 1px rgba(0, 0, 0, 0.15);\n",
              "      filter: drop-shadow(0px 1px 2px rgba(0, 0, 0, 0.3));\n",
              "      fill: #FFFFFF;\n",
              "    }\n",
              "  </style>\n",
              "\n",
              "      <script>\n",
              "        const buttonEl =\n",
              "          document.querySelector('#df-1058d3dc-e020-4995-a1ba-719170434c8b button.colab-df-convert');\n",
              "        buttonEl.style.display =\n",
              "          google.colab.kernel.accessAllowed ? 'block' : 'none';\n",
              "\n",
              "        async function convertToInteractive(key) {\n",
              "          const element = document.querySelector('#df-1058d3dc-e020-4995-a1ba-719170434c8b');\n",
              "          const dataTable =\n",
              "            await google.colab.kernel.invokeFunction('convertToInteractive',\n",
              "                                                     [key], {});\n",
              "          if (!dataTable) return;\n",
              "\n",
              "          const docLinkHtml = 'Like what you see? Visit the ' +\n",
              "            '<a target=\"_blank\" href=https://colab.research.google.com/notebooks/data_table.ipynb>data table notebook</a>'\n",
              "            + ' to learn more about interactive tables.';\n",
              "          element.innerHTML = '';\n",
              "          dataTable['output_type'] = 'display_data';\n",
              "          await google.colab.output.renderOutput(dataTable, element);\n",
              "          const docLink = document.createElement('div');\n",
              "          docLink.innerHTML = docLinkHtml;\n",
              "          element.appendChild(docLink);\n",
              "        }\n",
              "      </script>\n",
              "    </div>\n",
              "  </div>\n",
              "  "
            ]
          },
          "metadata": {},
          "execution_count": 4
        }
      ]
    },
    {
      "cell_type": "code",
      "source": [
        "data.info()"
      ],
      "metadata": {
        "colab": {
          "base_uri": "https://localhost:8080/"
        },
        "id": "XfuhKEbSKRUL",
        "outputId": "c682e9bf-40fc-4ab8-fe52-010c87bb35fb"
      },
      "execution_count": null,
      "outputs": [
        {
          "output_type": "stream",
          "name": "stdout",
          "text": [
            "<class 'pandas.core.frame.DataFrame'>\n",
            "RangeIndex: 1597 entries, 0 to 1596\n",
            "Data columns (total 27 columns):\n",
            " #   Column                Non-Null Count  Dtype  \n",
            "---  ------                --------------  -----  \n",
            " 0   id                    1597 non-null   object \n",
            " 1   asins                 1597 non-null   object \n",
            " 2   brand                 1597 non-null   object \n",
            " 3   categories            1597 non-null   object \n",
            " 4   colors                774 non-null    object \n",
            " 5   dateAdded             1597 non-null   object \n",
            " 6   dateUpdated           1597 non-null   object \n",
            " 7   dimension             565 non-null    object \n",
            " 8   ean                   898 non-null    float64\n",
            " 9   keys                  1597 non-null   object \n",
            " 10  manufacturer          965 non-null    object \n",
            " 11  manufacturerNumber    902 non-null    object \n",
            " 12  name                  1597 non-null   object \n",
            " 13  prices                1597 non-null   object \n",
            " 14  reviews.date          1217 non-null   object \n",
            " 15  reviews.doRecommend   539 non-null    object \n",
            " 16  reviews.numHelpful    900 non-null    float64\n",
            " 17  reviews.rating        1177 non-null   float64\n",
            " 18  reviews.sourceURLs    1597 non-null   object \n",
            " 19  reviews.text          1597 non-null   object \n",
            " 20  reviews.title         1580 non-null   object \n",
            " 21  reviews.userCity      0 non-null      float64\n",
            " 22  reviews.userProvince  0 non-null      float64\n",
            " 23  reviews.username      1580 non-null   object \n",
            " 24  sizes                 0 non-null      float64\n",
            " 25  upc                   898 non-null    float64\n",
            " 26  weight                686 non-null    object \n",
            "dtypes: float64(7), object(20)\n",
            "memory usage: 337.0+ KB\n"
          ]
        }
      ]
    },
    {
      "cell_type": "code",
      "source": [
        "data=data.drop([\"id\" ,\"asins\",\"brand\",\"categories\",\"colors\"],axis=1)"
      ],
      "metadata": {
        "id": "347lHKKEJXC6"
      },
      "execution_count": null,
      "outputs": []
    },
    {
      "cell_type": "code",
      "source": [
        "data=data.drop([\"ean\" ,\"dimension\",\"dateAdded\",\"dateUpdated\",\"manufacturer\",\"manufacturerNumber\"],axis=1)"
      ],
      "metadata": {
        "id": "nU6T53cXLS7Z"
      },
      "execution_count": null,
      "outputs": []
    },
    {
      "cell_type": "code",
      "source": [
        "data.info()"
      ],
      "metadata": {
        "colab": {
          "base_uri": "https://localhost:8080/"
        },
        "id": "fsEO_5-7MMjQ",
        "outputId": "94c64af7-e768-43c8-c9ea-89f6bee1a663"
      },
      "execution_count": null,
      "outputs": [
        {
          "output_type": "stream",
          "name": "stdout",
          "text": [
            "<class 'pandas.core.frame.DataFrame'>\n",
            "RangeIndex: 1597 entries, 0 to 1596\n",
            "Data columns (total 16 columns):\n",
            " #   Column                Non-Null Count  Dtype  \n",
            "---  ------                --------------  -----  \n",
            " 0   keys                  1597 non-null   object \n",
            " 1   name                  1597 non-null   object \n",
            " 2   prices                1597 non-null   object \n",
            " 3   reviews.date          1217 non-null   object \n",
            " 4   reviews.doRecommend   539 non-null    object \n",
            " 5   reviews.numHelpful    900 non-null    float64\n",
            " 6   reviews.rating        1177 non-null   float64\n",
            " 7   reviews.sourceURLs    1597 non-null   object \n",
            " 8   reviews.text          1597 non-null   object \n",
            " 9   reviews.title         1580 non-null   object \n",
            " 10  reviews.userCity      0 non-null      float64\n",
            " 11  reviews.userProvince  0 non-null      float64\n",
            " 12  reviews.username      1580 non-null   object \n",
            " 13  sizes                 0 non-null      float64\n",
            " 14  upc                   898 non-null    float64\n",
            " 15  weight                686 non-null    object \n",
            "dtypes: float64(6), object(10)\n",
            "memory usage: 199.8+ KB\n"
          ]
        }
      ]
    },
    {
      "cell_type": "code",
      "source": [
        "data=data.drop([\"weight\",\"upc\",\"sizes\",\"reviews.userProvince\",\"reviews.userCity\",\"reviews.doRecommend\"], axis=1)"
      ],
      "metadata": {
        "id": "wx0INy2wMOG3"
      },
      "execution_count": null,
      "outputs": []
    },
    {
      "cell_type": "code",
      "source": [
        "data.head()"
      ],
      "metadata": {
        "colab": {
          "base_uri": "https://localhost:8080/",
          "height": 548
        },
        "id": "hOJ44hjQMxTk",
        "outputId": "0e0e8c7f-eb6c-472d-a0d7-bb41ad24d2d0"
      },
      "execution_count": null,
      "outputs": [
        {
          "output_type": "execute_result",
          "data": {
            "text/plain": [
              "                          keys               name  \\\n",
              "0  kindlepaperwhite/b00qjdu3ky  Kindle Paperwhite   \n",
              "1  kindlepaperwhite/b00qjdu3ky  Kindle Paperwhite   \n",
              "2  kindlepaperwhite/b00qjdu3ky  Kindle Paperwhite   \n",
              "3  kindlepaperwhite/b00qjdu3ky  Kindle Paperwhite   \n",
              "4  kindlepaperwhite/b00qjdu3ky  Kindle Paperwhite   \n",
              "\n",
              "                                              prices  \\\n",
              "0  [{\"amountMax\":139.99,\"amountMin\":139.99,\"curre...   \n",
              "1  [{\"amountMax\":139.99,\"amountMin\":139.99,\"curre...   \n",
              "2  [{\"amountMax\":139.99,\"amountMin\":139.99,\"curre...   \n",
              "3  [{\"amountMax\":139.99,\"amountMin\":139.99,\"curre...   \n",
              "4  [{\"amountMax\":139.99,\"amountMin\":139.99,\"curre...   \n",
              "\n",
              "               reviews.date  reviews.numHelpful  reviews.rating  \\\n",
              "0  2015-08-08T00:00:00.000Z               139.0             5.0   \n",
              "1  2015-09-01T00:00:00.000Z               126.0             5.0   \n",
              "2  2015-07-20T00:00:00.000Z                69.0             4.0   \n",
              "3  2017-06-16T00:00:00.000Z                 2.0             5.0   \n",
              "4  2016-08-11T00:00:00.000Z                17.0             5.0   \n",
              "\n",
              "                                  reviews.sourceURLs  \\\n",
              "0  https://www.amazon.com/Kindle-Paperwhite-High-...   \n",
              "1  https://www.amazon.com/Kindle-Paperwhite-High-...   \n",
              "2  https://www.amazon.com/Kindle-Paperwhite-High-...   \n",
              "3  https://www.amazon.com/Kindle-Paperwhite-High-...   \n",
              "4  https://www.amazon.com/Kindle-Paperwhite-High-...   \n",
              "\n",
              "                                        reviews.text  \\\n",
              "0  I initially had trouble deciding between the p...   \n",
              "1  Allow me to preface this with a little history...   \n",
              "2  I am enjoying it so far. Great for reading. Ha...   \n",
              "3  I bought one of the first Paperwhites and have...   \n",
              "4  I have to say upfront - I don't like coroporat...   \n",
              "\n",
              "                                reviews.title    reviews.username  \n",
              "0              Paperwhite voyage, no regrets!          Cristina M  \n",
              "1           One Simply Could Not Ask For More               Ricky  \n",
              "2  Great for those that just want an e-reader       Tedd Gardiner  \n",
              "3                    Love / Hate relationship              Dougal  \n",
              "4                                   I LOVE IT  Miljan David Tanic  "
            ],
            "text/html": [
              "\n",
              "  <div id=\"df-6d701d0b-ec1d-4f87-b633-7647385df8ff\">\n",
              "    <div class=\"colab-df-container\">\n",
              "      <div>\n",
              "<style scoped>\n",
              "    .dataframe tbody tr th:only-of-type {\n",
              "        vertical-align: middle;\n",
              "    }\n",
              "\n",
              "    .dataframe tbody tr th {\n",
              "        vertical-align: top;\n",
              "    }\n",
              "\n",
              "    .dataframe thead th {\n",
              "        text-align: right;\n",
              "    }\n",
              "</style>\n",
              "<table border=\"1\" class=\"dataframe\">\n",
              "  <thead>\n",
              "    <tr style=\"text-align: right;\">\n",
              "      <th></th>\n",
              "      <th>keys</th>\n",
              "      <th>name</th>\n",
              "      <th>prices</th>\n",
              "      <th>reviews.date</th>\n",
              "      <th>reviews.numHelpful</th>\n",
              "      <th>reviews.rating</th>\n",
              "      <th>reviews.sourceURLs</th>\n",
              "      <th>reviews.text</th>\n",
              "      <th>reviews.title</th>\n",
              "      <th>reviews.username</th>\n",
              "    </tr>\n",
              "  </thead>\n",
              "  <tbody>\n",
              "    <tr>\n",
              "      <th>0</th>\n",
              "      <td>kindlepaperwhite/b00qjdu3ky</td>\n",
              "      <td>Kindle Paperwhite</td>\n",
              "      <td>[{\"amountMax\":139.99,\"amountMin\":139.99,\"curre...</td>\n",
              "      <td>2015-08-08T00:00:00.000Z</td>\n",
              "      <td>139.0</td>\n",
              "      <td>5.0</td>\n",
              "      <td>https://www.amazon.com/Kindle-Paperwhite-High-...</td>\n",
              "      <td>I initially had trouble deciding between the p...</td>\n",
              "      <td>Paperwhite voyage, no regrets!</td>\n",
              "      <td>Cristina M</td>\n",
              "    </tr>\n",
              "    <tr>\n",
              "      <th>1</th>\n",
              "      <td>kindlepaperwhite/b00qjdu3ky</td>\n",
              "      <td>Kindle Paperwhite</td>\n",
              "      <td>[{\"amountMax\":139.99,\"amountMin\":139.99,\"curre...</td>\n",
              "      <td>2015-09-01T00:00:00.000Z</td>\n",
              "      <td>126.0</td>\n",
              "      <td>5.0</td>\n",
              "      <td>https://www.amazon.com/Kindle-Paperwhite-High-...</td>\n",
              "      <td>Allow me to preface this with a little history...</td>\n",
              "      <td>One Simply Could Not Ask For More</td>\n",
              "      <td>Ricky</td>\n",
              "    </tr>\n",
              "    <tr>\n",
              "      <th>2</th>\n",
              "      <td>kindlepaperwhite/b00qjdu3ky</td>\n",
              "      <td>Kindle Paperwhite</td>\n",
              "      <td>[{\"amountMax\":139.99,\"amountMin\":139.99,\"curre...</td>\n",
              "      <td>2015-07-20T00:00:00.000Z</td>\n",
              "      <td>69.0</td>\n",
              "      <td>4.0</td>\n",
              "      <td>https://www.amazon.com/Kindle-Paperwhite-High-...</td>\n",
              "      <td>I am enjoying it so far. Great for reading. Ha...</td>\n",
              "      <td>Great for those that just want an e-reader</td>\n",
              "      <td>Tedd Gardiner</td>\n",
              "    </tr>\n",
              "    <tr>\n",
              "      <th>3</th>\n",
              "      <td>kindlepaperwhite/b00qjdu3ky</td>\n",
              "      <td>Kindle Paperwhite</td>\n",
              "      <td>[{\"amountMax\":139.99,\"amountMin\":139.99,\"curre...</td>\n",
              "      <td>2017-06-16T00:00:00.000Z</td>\n",
              "      <td>2.0</td>\n",
              "      <td>5.0</td>\n",
              "      <td>https://www.amazon.com/Kindle-Paperwhite-High-...</td>\n",
              "      <td>I bought one of the first Paperwhites and have...</td>\n",
              "      <td>Love / Hate relationship</td>\n",
              "      <td>Dougal</td>\n",
              "    </tr>\n",
              "    <tr>\n",
              "      <th>4</th>\n",
              "      <td>kindlepaperwhite/b00qjdu3ky</td>\n",
              "      <td>Kindle Paperwhite</td>\n",
              "      <td>[{\"amountMax\":139.99,\"amountMin\":139.99,\"curre...</td>\n",
              "      <td>2016-08-11T00:00:00.000Z</td>\n",
              "      <td>17.0</td>\n",
              "      <td>5.0</td>\n",
              "      <td>https://www.amazon.com/Kindle-Paperwhite-High-...</td>\n",
              "      <td>I have to say upfront - I don't like coroporat...</td>\n",
              "      <td>I LOVE IT</td>\n",
              "      <td>Miljan David Tanic</td>\n",
              "    </tr>\n",
              "  </tbody>\n",
              "</table>\n",
              "</div>\n",
              "      <button class=\"colab-df-convert\" onclick=\"convertToInteractive('df-6d701d0b-ec1d-4f87-b633-7647385df8ff')\"\n",
              "              title=\"Convert this dataframe to an interactive table.\"\n",
              "              style=\"display:none;\">\n",
              "        \n",
              "  <svg xmlns=\"http://www.w3.org/2000/svg\" height=\"24px\"viewBox=\"0 0 24 24\"\n",
              "       width=\"24px\">\n",
              "    <path d=\"M0 0h24v24H0V0z\" fill=\"none\"/>\n",
              "    <path d=\"M18.56 5.44l.94 2.06.94-2.06 2.06-.94-2.06-.94-.94-2.06-.94 2.06-2.06.94zm-11 1L8.5 8.5l.94-2.06 2.06-.94-2.06-.94L8.5 2.5l-.94 2.06-2.06.94zm10 10l.94 2.06.94-2.06 2.06-.94-2.06-.94-.94-2.06-.94 2.06-2.06.94z\"/><path d=\"M17.41 7.96l-1.37-1.37c-.4-.4-.92-.59-1.43-.59-.52 0-1.04.2-1.43.59L10.3 9.45l-7.72 7.72c-.78.78-.78 2.05 0 2.83L4 21.41c.39.39.9.59 1.41.59.51 0 1.02-.2 1.41-.59l7.78-7.78 2.81-2.81c.8-.78.8-2.07 0-2.86zM5.41 20L4 18.59l7.72-7.72 1.47 1.35L5.41 20z\"/>\n",
              "  </svg>\n",
              "      </button>\n",
              "      \n",
              "  <style>\n",
              "    .colab-df-container {\n",
              "      display:flex;\n",
              "      flex-wrap:wrap;\n",
              "      gap: 12px;\n",
              "    }\n",
              "\n",
              "    .colab-df-convert {\n",
              "      background-color: #E8F0FE;\n",
              "      border: none;\n",
              "      border-radius: 50%;\n",
              "      cursor: pointer;\n",
              "      display: none;\n",
              "      fill: #1967D2;\n",
              "      height: 32px;\n",
              "      padding: 0 0 0 0;\n",
              "      width: 32px;\n",
              "    }\n",
              "\n",
              "    .colab-df-convert:hover {\n",
              "      background-color: #E2EBFA;\n",
              "      box-shadow: 0px 1px 2px rgba(60, 64, 67, 0.3), 0px 1px 3px 1px rgba(60, 64, 67, 0.15);\n",
              "      fill: #174EA6;\n",
              "    }\n",
              "\n",
              "    [theme=dark] .colab-df-convert {\n",
              "      background-color: #3B4455;\n",
              "      fill: #D2E3FC;\n",
              "    }\n",
              "\n",
              "    [theme=dark] .colab-df-convert:hover {\n",
              "      background-color: #434B5C;\n",
              "      box-shadow: 0px 1px 3px 1px rgba(0, 0, 0, 0.15);\n",
              "      filter: drop-shadow(0px 1px 2px rgba(0, 0, 0, 0.3));\n",
              "      fill: #FFFFFF;\n",
              "    }\n",
              "  </style>\n",
              "\n",
              "      <script>\n",
              "        const buttonEl =\n",
              "          document.querySelector('#df-6d701d0b-ec1d-4f87-b633-7647385df8ff button.colab-df-convert');\n",
              "        buttonEl.style.display =\n",
              "          google.colab.kernel.accessAllowed ? 'block' : 'none';\n",
              "\n",
              "        async function convertToInteractive(key) {\n",
              "          const element = document.querySelector('#df-6d701d0b-ec1d-4f87-b633-7647385df8ff');\n",
              "          const dataTable =\n",
              "            await google.colab.kernel.invokeFunction('convertToInteractive',\n",
              "                                                     [key], {});\n",
              "          if (!dataTable) return;\n",
              "\n",
              "          const docLinkHtml = 'Like what you see? Visit the ' +\n",
              "            '<a target=\"_blank\" href=https://colab.research.google.com/notebooks/data_table.ipynb>data table notebook</a>'\n",
              "            + ' to learn more about interactive tables.';\n",
              "          element.innerHTML = '';\n",
              "          dataTable['output_type'] = 'display_data';\n",
              "          await google.colab.output.renderOutput(dataTable, element);\n",
              "          const docLink = document.createElement('div');\n",
              "          docLink.innerHTML = docLinkHtml;\n",
              "          element.appendChild(docLink);\n",
              "        }\n",
              "      </script>\n",
              "    </div>\n",
              "  </div>\n",
              "  "
            ]
          },
          "metadata": {},
          "execution_count": 11
        }
      ]
    },
    {
      "cell_type": "code",
      "source": [
        "data.info()"
      ],
      "metadata": {
        "colab": {
          "base_uri": "https://localhost:8080/"
        },
        "id": "V3JveKPcMzkE",
        "outputId": "136c3b7f-971a-44be-b7dd-0dfe0b21f1c6"
      },
      "execution_count": null,
      "outputs": [
        {
          "output_type": "stream",
          "name": "stdout",
          "text": [
            "<class 'pandas.core.frame.DataFrame'>\n",
            "RangeIndex: 1597 entries, 0 to 1596\n",
            "Data columns (total 10 columns):\n",
            " #   Column              Non-Null Count  Dtype  \n",
            "---  ------              --------------  -----  \n",
            " 0   keys                1597 non-null   object \n",
            " 1   name                1597 non-null   object \n",
            " 2   prices              1597 non-null   object \n",
            " 3   reviews.date        1217 non-null   object \n",
            " 4   reviews.numHelpful  900 non-null    float64\n",
            " 5   reviews.rating      1177 non-null   float64\n",
            " 6   reviews.sourceURLs  1597 non-null   object \n",
            " 7   reviews.text        1597 non-null   object \n",
            " 8   reviews.title       1580 non-null   object \n",
            " 9   reviews.username    1580 non-null   object \n",
            "dtypes: float64(2), object(8)\n",
            "memory usage: 124.9+ KB\n"
          ]
        }
      ]
    },
    {
      "cell_type": "code",
      "source": [
        "data=data.drop([\"keys\",\"name\",\"prices\",\"reviews.date\",\"reviews.numHelpful\",\"reviews.sourceURLs\"],axis=1)"
      ],
      "metadata": {
        "id": "Uj_B6FCSNDl8"
      },
      "execution_count": null,
      "outputs": []
    },
    {
      "cell_type": "code",
      "source": [
        "data.head()"
      ],
      "metadata": {
        "colab": {
          "base_uri": "https://localhost:8080/",
          "height": 206
        },
        "id": "D41dHKZXNhde",
        "outputId": "250c6527-5bf4-4059-a7de-51a025b837fa"
      },
      "execution_count": null,
      "outputs": [
        {
          "output_type": "execute_result",
          "data": {
            "text/plain": [
              "   reviews.rating                                       reviews.text  \\\n",
              "0             5.0  I initially had trouble deciding between the p...   \n",
              "1             5.0  Allow me to preface this with a little history...   \n",
              "2             4.0  I am enjoying it so far. Great for reading. Ha...   \n",
              "3             5.0  I bought one of the first Paperwhites and have...   \n",
              "4             5.0  I have to say upfront - I don't like coroporat...   \n",
              "\n",
              "                                reviews.title    reviews.username  \n",
              "0              Paperwhite voyage, no regrets!          Cristina M  \n",
              "1           One Simply Could Not Ask For More               Ricky  \n",
              "2  Great for those that just want an e-reader       Tedd Gardiner  \n",
              "3                    Love / Hate relationship              Dougal  \n",
              "4                                   I LOVE IT  Miljan David Tanic  "
            ],
            "text/html": [
              "\n",
              "  <div id=\"df-32ef105b-6309-4a72-a334-df8d7f253297\">\n",
              "    <div class=\"colab-df-container\">\n",
              "      <div>\n",
              "<style scoped>\n",
              "    .dataframe tbody tr th:only-of-type {\n",
              "        vertical-align: middle;\n",
              "    }\n",
              "\n",
              "    .dataframe tbody tr th {\n",
              "        vertical-align: top;\n",
              "    }\n",
              "\n",
              "    .dataframe thead th {\n",
              "        text-align: right;\n",
              "    }\n",
              "</style>\n",
              "<table border=\"1\" class=\"dataframe\">\n",
              "  <thead>\n",
              "    <tr style=\"text-align: right;\">\n",
              "      <th></th>\n",
              "      <th>reviews.rating</th>\n",
              "      <th>reviews.text</th>\n",
              "      <th>reviews.title</th>\n",
              "      <th>reviews.username</th>\n",
              "    </tr>\n",
              "  </thead>\n",
              "  <tbody>\n",
              "    <tr>\n",
              "      <th>0</th>\n",
              "      <td>5.0</td>\n",
              "      <td>I initially had trouble deciding between the p...</td>\n",
              "      <td>Paperwhite voyage, no regrets!</td>\n",
              "      <td>Cristina M</td>\n",
              "    </tr>\n",
              "    <tr>\n",
              "      <th>1</th>\n",
              "      <td>5.0</td>\n",
              "      <td>Allow me to preface this with a little history...</td>\n",
              "      <td>One Simply Could Not Ask For More</td>\n",
              "      <td>Ricky</td>\n",
              "    </tr>\n",
              "    <tr>\n",
              "      <th>2</th>\n",
              "      <td>4.0</td>\n",
              "      <td>I am enjoying it so far. Great for reading. Ha...</td>\n",
              "      <td>Great for those that just want an e-reader</td>\n",
              "      <td>Tedd Gardiner</td>\n",
              "    </tr>\n",
              "    <tr>\n",
              "      <th>3</th>\n",
              "      <td>5.0</td>\n",
              "      <td>I bought one of the first Paperwhites and have...</td>\n",
              "      <td>Love / Hate relationship</td>\n",
              "      <td>Dougal</td>\n",
              "    </tr>\n",
              "    <tr>\n",
              "      <th>4</th>\n",
              "      <td>5.0</td>\n",
              "      <td>I have to say upfront - I don't like coroporat...</td>\n",
              "      <td>I LOVE IT</td>\n",
              "      <td>Miljan David Tanic</td>\n",
              "    </tr>\n",
              "  </tbody>\n",
              "</table>\n",
              "</div>\n",
              "      <button class=\"colab-df-convert\" onclick=\"convertToInteractive('df-32ef105b-6309-4a72-a334-df8d7f253297')\"\n",
              "              title=\"Convert this dataframe to an interactive table.\"\n",
              "              style=\"display:none;\">\n",
              "        \n",
              "  <svg xmlns=\"http://www.w3.org/2000/svg\" height=\"24px\"viewBox=\"0 0 24 24\"\n",
              "       width=\"24px\">\n",
              "    <path d=\"M0 0h24v24H0V0z\" fill=\"none\"/>\n",
              "    <path d=\"M18.56 5.44l.94 2.06.94-2.06 2.06-.94-2.06-.94-.94-2.06-.94 2.06-2.06.94zm-11 1L8.5 8.5l.94-2.06 2.06-.94-2.06-.94L8.5 2.5l-.94 2.06-2.06.94zm10 10l.94 2.06.94-2.06 2.06-.94-2.06-.94-.94-2.06-.94 2.06-2.06.94z\"/><path d=\"M17.41 7.96l-1.37-1.37c-.4-.4-.92-.59-1.43-.59-.52 0-1.04.2-1.43.59L10.3 9.45l-7.72 7.72c-.78.78-.78 2.05 0 2.83L4 21.41c.39.39.9.59 1.41.59.51 0 1.02-.2 1.41-.59l7.78-7.78 2.81-2.81c.8-.78.8-2.07 0-2.86zM5.41 20L4 18.59l7.72-7.72 1.47 1.35L5.41 20z\"/>\n",
              "  </svg>\n",
              "      </button>\n",
              "      \n",
              "  <style>\n",
              "    .colab-df-container {\n",
              "      display:flex;\n",
              "      flex-wrap:wrap;\n",
              "      gap: 12px;\n",
              "    }\n",
              "\n",
              "    .colab-df-convert {\n",
              "      background-color: #E8F0FE;\n",
              "      border: none;\n",
              "      border-radius: 50%;\n",
              "      cursor: pointer;\n",
              "      display: none;\n",
              "      fill: #1967D2;\n",
              "      height: 32px;\n",
              "      padding: 0 0 0 0;\n",
              "      width: 32px;\n",
              "    }\n",
              "\n",
              "    .colab-df-convert:hover {\n",
              "      background-color: #E2EBFA;\n",
              "      box-shadow: 0px 1px 2px rgba(60, 64, 67, 0.3), 0px 1px 3px 1px rgba(60, 64, 67, 0.15);\n",
              "      fill: #174EA6;\n",
              "    }\n",
              "\n",
              "    [theme=dark] .colab-df-convert {\n",
              "      background-color: #3B4455;\n",
              "      fill: #D2E3FC;\n",
              "    }\n",
              "\n",
              "    [theme=dark] .colab-df-convert:hover {\n",
              "      background-color: #434B5C;\n",
              "      box-shadow: 0px 1px 3px 1px rgba(0, 0, 0, 0.15);\n",
              "      filter: drop-shadow(0px 1px 2px rgba(0, 0, 0, 0.3));\n",
              "      fill: #FFFFFF;\n",
              "    }\n",
              "  </style>\n",
              "\n",
              "      <script>\n",
              "        const buttonEl =\n",
              "          document.querySelector('#df-32ef105b-6309-4a72-a334-df8d7f253297 button.colab-df-convert');\n",
              "        buttonEl.style.display =\n",
              "          google.colab.kernel.accessAllowed ? 'block' : 'none';\n",
              "\n",
              "        async function convertToInteractive(key) {\n",
              "          const element = document.querySelector('#df-32ef105b-6309-4a72-a334-df8d7f253297');\n",
              "          const dataTable =\n",
              "            await google.colab.kernel.invokeFunction('convertToInteractive',\n",
              "                                                     [key], {});\n",
              "          if (!dataTable) return;\n",
              "\n",
              "          const docLinkHtml = 'Like what you see? Visit the ' +\n",
              "            '<a target=\"_blank\" href=https://colab.research.google.com/notebooks/data_table.ipynb>data table notebook</a>'\n",
              "            + ' to learn more about interactive tables.';\n",
              "          element.innerHTML = '';\n",
              "          dataTable['output_type'] = 'display_data';\n",
              "          await google.colab.output.renderOutput(dataTable, element);\n",
              "          const docLink = document.createElement('div');\n",
              "          docLink.innerHTML = docLinkHtml;\n",
              "          element.appendChild(docLink);\n",
              "        }\n",
              "      </script>\n",
              "    </div>\n",
              "  </div>\n",
              "  "
            ]
          },
          "metadata": {},
          "execution_count": 14
        }
      ]
    },
    {
      "cell_type": "code",
      "source": [
        "data.info()"
      ],
      "metadata": {
        "colab": {
          "base_uri": "https://localhost:8080/"
        },
        "id": "tV7TXL5aNjAa",
        "outputId": "9d13c7c5-80e0-4bc2-f7c1-a34eb40a152c"
      },
      "execution_count": null,
      "outputs": [
        {
          "output_type": "stream",
          "name": "stdout",
          "text": [
            "<class 'pandas.core.frame.DataFrame'>\n",
            "RangeIndex: 1597 entries, 0 to 1596\n",
            "Data columns (total 4 columns):\n",
            " #   Column            Non-Null Count  Dtype  \n",
            "---  ------            --------------  -----  \n",
            " 0   reviews.rating    1177 non-null   float64\n",
            " 1   reviews.text      1597 non-null   object \n",
            " 2   reviews.title     1580 non-null   object \n",
            " 3   reviews.username  1580 non-null   object \n",
            "dtypes: float64(1), object(3)\n",
            "memory usage: 50.0+ KB\n"
          ]
        }
      ]
    },
    {
      "cell_type": "code",
      "source": [
        "data.isnull().sum()"
      ],
      "metadata": {
        "colab": {
          "base_uri": "https://localhost:8080/"
        },
        "id": "SNZgh9USNpS0",
        "outputId": "79bab6a5-fabc-45b6-c433-7911d525400e"
      },
      "execution_count": null,
      "outputs": [
        {
          "output_type": "execute_result",
          "data": {
            "text/plain": [
              "reviews.rating      420\n",
              "reviews.text          0\n",
              "reviews.title        17\n",
              "reviews.username     17\n",
              "dtype: int64"
            ]
          },
          "metadata": {},
          "execution_count": 17
        }
      ]
    },
    {
      "cell_type": "code",
      "source": [
        "data[\"reviews.rating\"].unique()"
      ],
      "metadata": {
        "colab": {
          "base_uri": "https://localhost:8080/"
        },
        "id": "OvlIpr6ZOFqg",
        "outputId": "39f1629c-524b-4c91-9534-1755aa8c82a9"
      },
      "execution_count": null,
      "outputs": [
        {
          "output_type": "execute_result",
          "data": {
            "text/plain": [
              "array([ 5.,  4., nan,  3.,  1.,  2.])"
            ]
          },
          "metadata": {},
          "execution_count": 18
        }
      ]
    },
    {
      "cell_type": "code",
      "source": [
        "data[\"reviews.rating\"].value_counts()"
      ],
      "metadata": {
        "colab": {
          "base_uri": "https://localhost:8080/"
        },
        "id": "QiM0acL6OVOa",
        "outputId": "46c79bbc-86e5-4ef0-8cc0-16d49e74884a"
      },
      "execution_count": null,
      "outputs": [
        {
          "output_type": "execute_result",
          "data": {
            "text/plain": [
              "5.0    741\n",
              "4.0    236\n",
              "3.0    124\n",
              "1.0     42\n",
              "2.0     34\n",
              "Name: reviews.rating, dtype: int64"
            ]
          },
          "metadata": {},
          "execution_count": 20
        }
      ]
    },
    {
      "cell_type": "code",
      "source": [
        "data[\"reviews.rating\"]=data[\"reviews.rating\"].fillna(5.)"
      ],
      "metadata": {
        "id": "lYkk_24cN0x1"
      },
      "execution_count": null,
      "outputs": []
    },
    {
      "cell_type": "code",
      "source": [
        "data[\"reviews.rating\"]=data[\"reviews.rating\"].astype(\"int\")"
      ],
      "metadata": {
        "id": "4UcF8RO4OSrM"
      },
      "execution_count": null,
      "outputs": []
    },
    {
      "cell_type": "code",
      "source": [
        "data.info()"
      ],
      "metadata": {
        "colab": {
          "base_uri": "https://localhost:8080/"
        },
        "id": "ai5zSkTvOmr5",
        "outputId": "2eb0ec7c-9c48-4471-fa6b-046dce2ae970"
      },
      "execution_count": null,
      "outputs": [
        {
          "output_type": "stream",
          "name": "stdout",
          "text": [
            "<class 'pandas.core.frame.DataFrame'>\n",
            "RangeIndex: 1597 entries, 0 to 1596\n",
            "Data columns (total 4 columns):\n",
            " #   Column            Non-Null Count  Dtype \n",
            "---  ------            --------------  ----- \n",
            " 0   reviews.rating    1597 non-null   int64 \n",
            " 1   reviews.text      1597 non-null   object\n",
            " 2   reviews.title     1580 non-null   object\n",
            " 3   reviews.username  1580 non-null   object\n",
            "dtypes: int64(1), object(3)\n",
            "memory usage: 50.0+ KB\n"
          ]
        }
      ]
    },
    {
      "cell_type": "code",
      "source": [
        "data=data.dropna()"
      ],
      "metadata": {
        "id": "5NFuDCGMOocg"
      },
      "execution_count": null,
      "outputs": []
    },
    {
      "cell_type": "code",
      "source": [
        "data.info()"
      ],
      "metadata": {
        "colab": {
          "base_uri": "https://localhost:8080/"
        },
        "id": "oz1KSBDjOwwE",
        "outputId": "c3778eca-ec0a-463a-f2bf-b3996e0e9d6a"
      },
      "execution_count": null,
      "outputs": [
        {
          "output_type": "stream",
          "name": "stdout",
          "text": [
            "<class 'pandas.core.frame.DataFrame'>\n",
            "Int64Index: 1580 entries, 0 to 1596\n",
            "Data columns (total 4 columns):\n",
            " #   Column            Non-Null Count  Dtype \n",
            "---  ------            --------------  ----- \n",
            " 0   reviews.rating    1580 non-null   int64 \n",
            " 1   reviews.text      1580 non-null   object\n",
            " 2   reviews.title     1580 non-null   object\n",
            " 3   reviews.username  1580 non-null   object\n",
            "dtypes: int64(1), object(3)\n",
            "memory usage: 61.7+ KB\n"
          ]
        }
      ]
    },
    {
      "cell_type": "code",
      "source": [
        "#ratings that customers have given to the product based on their experience with the product\n",
        "ratings = data[\"reviews.rating\"].value_counts()\n",
        "numbers = ratings.index\n",
        "quantity = ratings.values"
      ],
      "metadata": {
        "id": "-pporIrfOy-_"
      },
      "execution_count": null,
      "outputs": []
    },
    {
      "cell_type": "code",
      "source": [
        "numbers"
      ],
      "metadata": {
        "colab": {
          "base_uri": "https://localhost:8080/"
        },
        "id": "FqvpUjXLmECX",
        "outputId": "7d78fc7f-2b47-4b67-87ff-e7614419b1e4"
      },
      "execution_count": null,
      "outputs": [
        {
          "output_type": "execute_result",
          "data": {
            "text/plain": [
              "Int64Index([5, 4, 3, 1, 2], dtype='int64')"
            ]
          },
          "metadata": {},
          "execution_count": 28
        }
      ]
    },
    {
      "cell_type": "code",
      "source": [
        "quantity"
      ],
      "metadata": {
        "colab": {
          "base_uri": "https://localhost:8080/"
        },
        "id": "x1zb-yB2mJH5",
        "outputId": "62325685-8be7-4fd2-c52c-3d9edb74a410"
      },
      "execution_count": null,
      "outputs": [
        {
          "output_type": "execute_result",
          "data": {
            "text/plain": [
              "array([1144,  236,  124,   42,   34])"
            ]
          },
          "metadata": {},
          "execution_count": 29
        }
      ]
    },
    {
      "cell_type": "code",
      "source": [
        "custom_colors = [\"skyblue\", \"yellowgreen\", 'tomato', \"blue\", \"red\"]\n",
        "plt.figure(figsize=(10, 8))\n",
        "plt.pie(quantity, labels=numbers, colors=custom_colors)\n",
        "central_circle = plt.Circle((0, 0), 0.5, color='white')\n",
        "fig = plt.gcf()\n",
        "fig.gca().add_artist(central_circle)\n",
        "plt.rc('font', size=12)\n",
        "plt.title(\"Distribution of Amazon Product Ratings\", fontsize=20)\n",
        "plt.show()"
      ],
      "metadata": {
        "colab": {
          "base_uri": "https://localhost:8080/",
          "height": 487
        },
        "id": "utOS31AllowY",
        "outputId": "09ecfa9a-782c-43bd-f9e9-1b4b3a2f49c4"
      },
      "execution_count": null,
      "outputs": [
        {
          "output_type": "display_data",
          "data": {
            "text/plain": [
              "<Figure size 720x576 with 1 Axes>"
            ],
            "image/png": "[encoded data removed]"
          },
          "metadata": {}
        }
      ]
    },
    {
      "cell_type": "code",
      "source": [
        "#add three more columns to this dataset as Positive, Negative, and Neutral by calculating the sentiment scores of the customer reviews mentioned in the Text column of the datase\n",
        "from nltk.sentiment.vader import SentimentIntensityAnalyzer\n",
        "nltk.download('vader_lexicon')\n",
        "sentiments =SentimentIntensityAnalyzer()\n",
        "\n",
        "data[\"Positive\"] = [sentiments.polarity_scores(i)[\"pos\"] for i in data[\"reviews.text\"]]\n",
        "data[\"Negative\"] = [sentiments.polarity_scores(i)[\"neg\"] for i in data[\"reviews.text\"]]\n",
        "data[\"Neutral\"] = [sentiments.polarity_scores(i)[\"neu\"] for i in data[\"reviews.text\"]]\n",
        "print(data.head())"
      ],
      "metadata": {
        "colab": {
          "base_uri": "https://localhost:8080/"
        },
        "id": "LIjfLTH3lxcv",
        "outputId": "4c274381-c222-4453-c9c5-666ae7e6410b"
      },
      "execution_count": null,
      "outputs": [
        {
          "output_type": "stream",
          "name": "stderr",
          "text": [
            "[nltk_data] Downloading package vader_lexicon to /root/nltk_data...\n",
            "[nltk_data]   Package vader_lexicon is already up-to-date!\n"
          ]
        },
        {
          "output_type": "stream",
          "name": "stdout",
          "text": [
            "   reviews.rating                                       reviews.text  \\\n",
            "0               5  I initially had trouble deciding between the p...   \n",
            "1               5  Allow me to preface this with a little history...   \n",
            "2               4  I am enjoying it so far. Great for reading. Ha...   \n",
            "3               5  I bought one of the first Paperwhites and have...   \n",
            "4               5  I have to say upfront - I don't like coroporat...   \n",
            "\n",
            "                                reviews.title    reviews.username  Positive  \\\n",
            "0              Paperwhite voyage, no regrets!          Cristina M     0.169   \n",
            "1           One Simply Could Not Ask For More               Ricky     0.147   \n",
            "2  Great for those that just want an e-reader       Tedd Gardiner     0.223   \n",
            "3                    Love / Hate relationship              Dougal     0.105   \n",
            "4                                   I LOVE IT  Miljan David Tanic     0.195   \n",
            "\n",
            "   Negative  Neutral  \n",
            "0     0.038    0.793  \n",
            "1     0.041    0.812  \n",
            "2     0.181    0.596  \n",
            "3     0.030    0.865  \n",
            "4     0.089    0.715  \n"
          ]
        }
      ]
    },
    {
      "cell_type": "code",
      "source": [
        "#checking how most people rated the products they bought from Amazon\n",
        "\n",
        "x = sum(data[\"Positive\"])\n",
        "y = sum(data[\"Negative\"])\n",
        "z = sum(data[\"Neutral\"])\n",
        "\n",
        "def sentiment_score(a, b, c):\n",
        "    if (a>b) and (a>c):\n",
        "        print(\"Positive 😊 \")\n",
        "    elif (b>a) and (b>c):\n",
        "        print(\"Negative 😠 \")\n",
        "    else:\n",
        "        print(\"Neutral 🙂 \")\n",
        "sentiment_score(x, y, z)"
      ],
      "metadata": {
        "colab": {
          "base_uri": "https://localhost:8080/"
        },
        "id": "ralk2lz9nM_K",
        "outputId": "802ad563-e369-43a9-b008-5943ccbd3512"
      },
      "execution_count": null,
      "outputs": [
        {
          "output_type": "stream",
          "name": "stdout",
          "text": [
            "Neutral 🙂 \n"
          ]
        }
      ]
    },
    {
      "cell_type": "code",
      "source": [
        "#checking the total of all sentiment scores\n",
        "\n",
        "print(\"Positive: \", x)\n",
        "print(\"Negative: \", y)\n",
        "print(\"Neutral: \", z)"
      ],
      "metadata": {
        "colab": {
          "base_uri": "https://localhost:8080/"
        },
        "id": "hRqUmBCbqBhv",
        "outputId": "d9b49322-5ffc-461d-ab76-254464e288c9"
      },
      "execution_count": null,
      "outputs": [
        {
          "output_type": "stream",
          "name": "stdout",
          "text": [
            "Positive:  317.9730000000015\n",
            "Negative:  66.22099999999998\n",
            "Neutral:  1195.7950000000017\n"
          ]
        }
      ]
    },
    {
      "cell_type": "code",
      "source": [
        "sentiment =SentimentIntensityAnalyzer()\n",
        "\n",
        "data[\"Positives\"] = [sentiment.polarity_scores(i)[\"pos\"] for i in data[\"reviews.title\"]]\n",
        "data[\"Negatives\"] = [sentiment.polarity_scores(i)[\"neg\"] for i in data[\"reviews.title\"]]\n",
        "data[\"Neutrals\"] = [sentiment.polarity_scores(i)[\"neu\"] for i in data[\"reviews.title\"]]\n",
        "print(data.head())"
      ],
      "metadata": {
        "colab": {
          "base_uri": "https://localhost:8080/"
        },
        "id": "VVhGsUV-qSun",
        "outputId": "6fcb2186-819d-44f6-9f7c-376252a8f5c4"
      },
      "execution_count": null,
      "outputs": [
        {
          "output_type": "stream",
          "name": "stdout",
          "text": [
            "   reviews.rating                                       reviews.text  \\\n",
            "0               5  I initially had trouble deciding between the p...   \n",
            "1               5  Allow me to preface this with a little history...   \n",
            "2               4  I am enjoying it so far. Great for reading. Ha...   \n",
            "3               5  I bought one of the first Paperwhites and have...   \n",
            "4               5  I have to say upfront - I don't like coroporat...   \n",
            "\n",
            "                                reviews.title    reviews.username  Positive  \\\n",
            "0              Paperwhite voyage, no regrets!          Cristina M     0.169   \n",
            "1           One Simply Could Not Ask For More               Ricky     0.147   \n",
            "2  Great for those that just want an e-reader       Tedd Gardiner     0.223   \n",
            "3                    Love / Hate relationship              Dougal     0.105   \n",
            "4                                   I LOVE IT  Miljan David Tanic     0.195   \n",
            "\n",
            "   Negative  Neutral  Positives  Negatives  Neutrals  \n",
            "0     0.038    0.793      0.000      0.714     0.286  \n",
            "1     0.041    0.812      0.000      0.000     1.000  \n",
            "2     0.181    0.596      0.474      0.000     0.526  \n",
            "3     0.030    0.865      0.472      0.416     0.112  \n",
            "4     0.089    0.715      0.808      0.000     0.192  \n"
          ]
        }
      ]
    },
    {
      "cell_type": "code",
      "source": [
        "t = sum(data[\"Positives\"])\n",
        "h = sum(data[\"Negatives\"])\n",
        "d = sum(data[\"Neutrals\"])\n",
        "\n",
        "def sentiment_score(a, b, c):\n",
        "    if (a>b) and (a>c):\n",
        "        print(\"Positives 😊 \")\n",
        "    elif (b>a) and (b>c):\n",
        "        print(\"Negatives 😠 \")\n",
        "    else:\n",
        "        print(\"Neutrals 🙂 \")\n",
        "sentiment_score(t, h, d)"
      ],
      "metadata": {
        "colab": {
          "base_uri": "https://localhost:8080/"
        },
        "id": "1w2L_RN4rMV9",
        "outputId": "85370ab5-6c93-4b11-c1a4-5267b9d9b157"
      },
      "execution_count": null,
      "outputs": [
        {
          "output_type": "stream",
          "name": "stdout",
          "text": [
            "Neutrals 🙂 \n"
          ]
        }
      ]
    },
    {
      "cell_type": "code",
      "source": [
        "print(\"Positives: \", t)\n",
        "print(\"Negatives: \", h)\n",
        "print(\"Neutrals: \", d)"
      ],
      "metadata": {
        "colab": {
          "base_uri": "https://localhost:8080/"
        },
        "id": "TQTHvKsyrl7x",
        "outputId": "569ea941-e004-4163-e00b-9ae46fc2c56f"
      },
      "execution_count": null,
      "outputs": [
        {
          "output_type": "stream",
          "name": "stdout",
          "text": [
            "Positives:  637.9129999999981\n",
            "Negatives:  101.45699999999964\n",
            "Neutrals:  840.5970000000023\n"
          ]
        }
      ]
    },
    {
      "cell_type": "code",
      "source": [],
      "metadata": {
        "id": "3Wve6Aozrvrp"
      },
      "execution_count": null,
      "outputs": []
    }
  ]
}